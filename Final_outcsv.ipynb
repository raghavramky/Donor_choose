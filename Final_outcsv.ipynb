{
 "cells": [
  {
   "cell_type": "code",
   "execution_count": 6,
   "metadata": {},
   "outputs": [],
   "source": [
    "import urllib\n",
    "from bs4 import BeautifulSoup\n",
    "import pandas as pd\n",
    "import csv"
   ]
  },
  {
   "cell_type": "code",
   "execution_count": 7,
   "metadata": {},
   "outputs": [],
   "source": [
    "def f():\n",
    "    \n",
    "    with open('C:/Users/Karth/Downloads/Crowdfunding.csv') as file:\n",
    "        reader = csv.reader(file)\n",
    "        sites = list(reader)\n",
    "        flat_list = [item for sublist in sites for item in sublist]\n",
    "        \n",
    "    f.out = []\n",
    "    \n",
    "    for page in flat_list:\n",
    "            open_page = urllib.request.urlopen(page)\n",
    "            Soup = BeautifulSoup(open_page,'html.parser')\n",
    "\n",
    "            for div in Soup.findAll('div', {'id':'title','class': 'element'}):\n",
    "                try:\n",
    "                    a = div.findAll('a')[0]\n",
    "                    Title = a.text.strip()\n",
    "                except:\n",
    "                    a = None\n",
    "                    Title = None\n",
    "            for div in Soup.findAll('div', {'id':'abstract','class': 'element'}):\n",
    "                try:\n",
    "                    a = div.findAll('p')[0]\n",
    "                    Abstract =a.text.strip()\n",
    "                except:\n",
    "                    a=None\n",
    "                    Abstract=None\n",
    "            for div in Soup.findAll('div', {'id':'authors','class': 'element'}):\n",
    "                try:\n",
    "                    a = div.findAll('p')[0]\n",
    "                    Authors =a.text.strip()\n",
    "                except:\n",
    "                    a=None\n",
    "                    Authors = None\n",
    "            for div in Soup.findAll('div', {'id':'recommended_citation','class': 'element'}):\n",
    "                try:\n",
    "                    a = div.findAll('p')[0]\n",
    "                    Recommended_Citation = a.text.strip()\n",
    "                except:\n",
    "                    a = None\n",
    "                    Recommended_Citation=None\n",
    "                        \n",
    "            for div in Soup.findAll('div', {'id':'doi','class': 'element'}):\n",
    "                try:\n",
    "                    a = div.findAll('p')[0]\n",
    "                    DOI = a.text.strip()\n",
    "                except:\n",
    "                    a = None\n",
    "                    DOI = None\n",
    "                    \n",
    "            f.out.append([Title,Abstract,Authors,Recommended_Citation,DOI])\n",
    "    my_df = pd.DataFrame(f.out,columns=['Title','Abstract','Auhtors','Recommended Citation','DOI'])\n",
    "    my_df.to_csv('my_csv.csv', index=False,header=False)\n",
    "f()"
   ]
  },
  {
   "cell_type": "code",
   "execution_count": null,
   "metadata": {},
   "outputs": [],
   "source": []
  }
 ],
 "metadata": {
  "kernelspec": {
   "display_name": "Python 3",
   "language": "python",
   "name": "python3"
  },
  "language_info": {
   "codemirror_mode": {
    "name": "ipython",
    "version": 3
   },
   "file_extension": ".py",
   "mimetype": "text/x-python",
   "name": "python",
   "nbconvert_exporter": "python",
   "pygments_lexer": "ipython3",
   "version": "3.6.5"
  }
 },
 "nbformat": 4,
 "nbformat_minor": 2
}
