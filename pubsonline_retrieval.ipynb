{
 "cells": [
  {
   "cell_type": "code",
   "execution_count": 1,
   "metadata": {},
   "outputs": [],
   "source": [
    "from selenium import webdriver\n",
    "import urllib\n",
    "import pandas as pd\n",
    "import csv"
   ]
  },
  {
   "cell_type": "code",
   "execution_count": 2,
   "metadata": {},
   "outputs": [],
   "source": [
    "def f():\n",
    "    \n",
    "    with open('C:/Users/Karth/Downloads/informs_crowdfunding.csv') as file:\n",
    "        reader = csv.reader(file)\n",
    "        sites = list(reader)\n",
    "        flat_list = [item for sublist in sites for item in sublist]\n",
    "    \n",
    "    f.out = []\n",
    "    \n",
    "    for page in flat_list:\n",
    "        driver = webdriver.Chrome(executable_path = \"C:/Users/Karth/Downloads/chromedriver_win32/chromedriver.exe\")\n",
    "        driver.get(page)\n",
    "        Titles = driver.find_elements_by_class_name(\"citation__title\")\n",
    "        Abstracts = driver.find_elements_by_class_name(\"hlFld-Abstract\")\n",
    "        Authors = driver.find_elements_by_class_name(\"entryAuthor\")\n",
    "        f.out.append([Titles,Abstracts,Authors])\n",
    "       \n",
    "    return(f.out)"
   ]
  },
  {
   "cell_type": "code",
   "execution_count": 3,
   "metadata": {},
   "outputs": [],
   "source": [
    "ot=f()"
   ]
  },
  {
   "cell_type": "code",
   "execution_count": 4,
   "metadata": {},
   "outputs": [
    {
     "name": "stdout",
     "output_type": "stream",
     "text": [
      "Adverse Incentives in Crowdfunding\n",
      "Abstract\n",
      "This paper analyzes the substantially growing markets for crowdfunding, in which retail investors lend to borrowers without financial intermediaries. Critics suggest that these markets allow sophisticated investors to take advantage of unsophisticated investors. The growth and viability of these markets critically depend on the underlying incentives. We provide evidence of perverse incentives in crowdfunding that are not fully recognized by the market. In particular, we look at group leader bids in the presence of origination fees and find that these bids are (wrongly) perceived as a signal of good loan quality, resulting in lower interest rates. Yet these loans actually have higher default rates. These adverse incentives are overcome only with sufficient skin in the game and when there are no origination fees. The results from the analysis in this paper provide more general implications for crowdfunding, its structure, and its regulation.\n",
      "This paper was accepted by Wei Jiang, finance.\n",
      "\n",
      "Product and Pricing Decisions in Crowdfunding\n",
      "Abstract\n",
      "This paper studies the optimal product and pricing decisions in a crowdfunding mechanism by which a project between a creator and many buyers will be realized only if the total funds committed by the buyers reach a specified goal. When the buyers are sufficiently heterogeneous in their product valuations, the creator should offer a line of products with different levels of product quality. Compared to the traditional situation where orders are placed and fulfilled individually, with the crowdfunding mechanism, a product line is more likely than a single product to be optimal and the quality gap between products is smaller. This paper also shows the effect of the crowdfunding mechanism on pricing dynamics over time. Together, these results underscore the substantial influence of the emerging crowdfunding mechanisms on common marketing decisions.\n",
      "\n",
      "The Colorblind Crowd? Founder Race and Performance in Crowdfunding\n",
      "Abstract\n",
      "The dearth of minority entrepreneurs has received increasing media attention but few academic analyses. In particular, the funding process creates challenges for either audit or correspondence methods, making it difficult to assess the role, or type, of discrimination influencing resource providers. We use a novel approach that combines analyses of 7,617 crowdfunding projects with an experimental design to identify whether African American men are discriminated against and whether this reflects statistical, taste-based, or unconscious bias on the part of prospective supporters. We find that African American men are significantly less likely than similar white founders to receive funding and that prospective supporters rate identical projects as lower in quality when they believe the founder is an African American male. We conclude that the reduction in perceived quality does not reflect conscious assumptions of differences in founder ability or disamenity but rather an unconscious assumption that black founders are lower quality. In two additional experiments, we identify three means of reducing this bias: through additional evidence of quality via third-party endorsements (i.e., awards, evidence of prior support), through evidence that African American founders have succeeded previously, and by removing indicators of the founder’s race.\n",
      "The online appendix is available at https://doi.org/10.1287/mnsc.2017.2774.\n",
      "This paper was accepted by Toby Stuart, entrepreneurship and innovation.\n",
      "\n"
     ]
    }
   ],
   "source": [
    "for item in ot:\n",
    "    for lvl in item:\n",
    "        print(lvl[0].text)"
   ]
  },
  {
   "cell_type": "code",
   "execution_count": null,
   "metadata": {},
   "outputs": [],
   "source": []
  }
 ],
 "metadata": {
  "kernelspec": {
   "display_name": "Python 3",
   "language": "python",
   "name": "python3"
  },
  "language_info": {
   "codemirror_mode": {
    "name": "ipython",
    "version": 3
   },
   "file_extension": ".py",
   "mimetype": "text/x-python",
   "name": "python",
   "nbconvert_exporter": "python",
   "pygments_lexer": "ipython3",
   "version": "3.6.5"
  }
 },
 "nbformat": 4,
 "nbformat_minor": 2
}
